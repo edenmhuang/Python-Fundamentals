{
 "cells": [
  {
   "cell_type": "markdown",
   "metadata": {},
   "source": [
    "# Lab 7 - Comp 122 - Fall 2022"
   ]
  },
  {
   "cell_type": "markdown",
   "metadata": {},
   "source": [
    "1. Write a function called TF_duplicates that takes a list and returns True if there is any element that appears more than once. It should not modify the original list."
   ]
  },
  {
   "cell_type": "code",
   "execution_count": 2,
   "metadata": {},
   "outputs": [
    {
     "data": {
      "text/plain": [
       "False"
      ]
     },
     "execution_count": 2,
     "metadata": {},
     "output_type": "execute_result"
    }
   ],
   "source": [
    "def TF_duplicates(elements):\n",
    "    for i in elements:\n",
    "        if elements.count(i) > 1:\n",
    "            return True\n",
    "    return False   \n",
    "\n",
    "TF_duplicates([3, \"hi\", 0.1, 2, [1,2,3], [1,2], True, False, 0.3, {\"two\":2}, {\"two\":3}])"
   ]
  },
  {
   "cell_type": "markdown",
   "metadata": {},
   "source": [
    "2. Write a cumulative_sum function that takes a list of numbers and returns the cumulative sum; that is, a new list where the ith element is the sum of the first i + 1 elements from the original list. For example, the cumulative sum of [1, 2, 3] is [1, 3, 6]."
   ]
  },
  {
   "cell_type": "code",
   "execution_count": 3,
   "metadata": {},
   "outputs": [
    {
     "data": {
      "text/plain": [
       "[1, 3, 6]"
      ]
     },
     "execution_count": 3,
     "metadata": {},
     "output_type": "execute_result"
    }
   ],
   "source": [
    "def cumulative_sum(numbers):\n",
    "    sum = 0\n",
    "    for i in range(len(numbers)):\n",
    "        sum += numbers[i]\n",
    "        numbers[i] = sum\n",
    "    return numbers\n",
    "\n",
    "cumulative_sum([1,2,3])"
   ]
  },
  {
   "cell_type": "markdown",
   "metadata": {},
   "source": [
    "3. Define a function, list_longest_repetition, that takes as input a list, and returns the element in the list that has the most consecutive repetitions. If there are multiple elements that have the same number of longest repetitions, the result should be the one that appears first.<br> If the input list is empty, it should return None."
   ]
  },
  {
   "cell_type": "code",
   "execution_count": 5,
   "metadata": {},
   "outputs": [
    {
     "data": {
      "text/plain": [
       "3"
      ]
     },
     "execution_count": 5,
     "metadata": {},
     "output_type": "execute_result"
    }
   ],
   "source": [
    "def list_longest_repetition(seq):\n",
    "    \n",
    "    if len(seq) == 0:\n",
    "        return None\n",
    "    count=1\n",
    "    max_result=0\n",
    "    last_seen=seq[0]\n",
    "    longest_repeating = seq[0]\n",
    "    \n",
    "    for v in seq[1:]:\n",
    "        if v==last_seen:\n",
    "            count += 1\n",
    "            if count > max_result:\n",
    "                longest_repeating = v\n",
    "        else:\n",
    "            if count > max_result:\n",
    "                max_result = count\n",
    "            last_seen = v\n",
    "            count = 1\n",
    "\n",
    "    return longest_repeating\n",
    "\n",
    "list_longest_repetition([1,2,3,3,3,4,5,5,5])\n"
   ]
  },
  {
   "cell_type": "code",
   "execution_count": 32,
   "metadata": {},
   "outputs": [
    {
     "name": "stdout",
     "output_type": "stream",
     "text": [
      "longest_repeating_num 3\n",
      "count 3\n"
     ]
    }
   ],
   "source": [
    "seq = [1,2,3,3,3,4,5,5]\n",
    "\n",
    "count=1\n",
    "max_result=0\n",
    "last_seen=seq[0]\n",
    "longest_repeating_num = seq[0]\n",
    "\n",
    "for v in seq[1:]:\n",
    "    if v==last_seen:\n",
    "        count += 1\n",
    "        if count > max_result:\n",
    "            longest_repeating_num = v\n",
    "    else:\n",
    "        if count > max_result:\n",
    "            max_result = count\n",
    "        last_seen = v\n",
    "        count = 1\n",
    "\n",
    "print(\"longest_repeating_num\", longest_repeating_num)\n",
    "print(\"count\", max_result)"
   ]
  },
  {
   "cell_type": "code",
   "execution_count": 30,
   "metadata": {},
   "outputs": [
    {
     "name": "stdout",
     "output_type": "stream",
     "text": [
      "v:  2\n",
      "last_seen:  1\n",
      "count:  1\n",
      "longest_repeating_num:  1\n",
      "\n",
      "v:  3\n",
      "last_seen:  2\n",
      "count:  1\n",
      "longest_repeating_num:  1\n",
      "\n",
      "v:  3\n",
      "last_seen:  3\n",
      "count:  1\n",
      "longest_repeating_num:  1\n",
      "\n",
      "v:  3\n",
      "last_seen:  3\n",
      "count:  2\n",
      "longest_repeating_num:  3\n",
      "\n",
      "v:  4\n",
      "last_seen:  3\n",
      "count:  3\n",
      "longest_repeating_num:  3\n",
      "\n",
      "v:  5\n",
      "last_seen:  4\n",
      "count:  1\n",
      "longest_repeating_num:  3\n",
      "\n",
      "v:  5\n",
      "last_seen:  5\n",
      "count:  1\n",
      "longest_repeating_num:  3\n",
      "\n",
      "v:  5\n",
      "last_seen:  5\n",
      "count:  2\n",
      "longest_repeating_num:  3\n",
      "\n",
      "longest_repeating_num 3\n",
      "count 3\n"
     ]
    }
   ],
   "source": [
    "seq = [1,2,3,3,3,4,5,5,5]\n",
    "\n",
    "count=1\n",
    "max_result=0\n",
    "last_seen=seq[0]\n",
    "longest_repeating_num = seq[0]\n",
    "\n",
    "for v in seq[1:]:\n",
    "    print(\"v: \", v)\n",
    "    print(\"last_seen: \", last_seen)\n",
    "    print(\"count: \", count)\n",
    "    print(\"longest_repeating_num: \", longest_repeating_num)\n",
    "    print()\n",
    "    if v==last_seen:\n",
    "        count += 1\n",
    "        if count > max_result:\n",
    "            longest_repeating_num = v\n",
    "    else:\n",
    "        if count > max_result:\n",
    "            max_result = count\n",
    "        last_seen = v\n",
    "        count = 1\n",
    "\n",
    "print(\"longest_repeating_num\", longest_repeating_num)\n",
    "print(\"count\", max_result)"
   ]
  },
  {
   "cell_type": "markdown",
   "metadata": {},
   "source": [
    "4. write a program to remove all 11 from the mylist."
   ]
  },
  {
   "cell_type": "code",
   "execution_count": 20,
   "metadata": {},
   "outputs": [
    {
     "name": "stdout",
     "output_type": "stream",
     "text": [
      "[1, 2, 3, 4, 5, 6, 12, 13, 14, 15, 2, 3, 4, 22, 2, 1, 0, 22, 1, 0.11]\n"
     ]
    }
   ],
   "source": [
    "mylist = [1,2,3,4,5,6,11,12,13,14,15,2,3,4,22,2,1,0,11,22,11,11,1,0.11]\n",
    "#your code here\n",
    "mylist_witout_11 = []\n",
    "for i in mylist:\n",
    "    if i != 11:\n",
    "        mylist_witout_11.append(i)\n",
    "print(mylist_witout_11)"
   ]
  },
  {
   "cell_type": "markdown",
   "metadata": {},
   "source": [
    "5. Define a function, best_count, that takes as input a list, and outputs the total number of elements in the list, including all elements in lists that it contains"
   ]
  },
  {
   "cell_type": "code",
   "execution_count": null,
   "metadata": {},
   "outputs": [],
   "source": [
    "#best_count([1, 2, 3])\n",
    "#>>> 3\n",
    "\n",
    "# The empty list still counts as an element of the outer list\n",
    "#print best_count([1, [], 3]) \n",
    "#>>> 3 \n",
    "\n",
    "#best_count([1, [1, 2, [3, 4]]])\n",
    "#>>> 7\n",
    "\n",
    "#best_count([[[[[[[[1, 2, 3]]]]]]]])\n",
    "#>>> 10"
   ]
  },
  {
   "cell_type": "code",
   "execution_count": 7,
   "metadata": {},
   "outputs": [],
   "source": [
    "def best_count(L):\n",
    "    s = 0\n",
    "    for i in L:\n",
    "        if type(i) == list:\n",
    "            s = s + best_count(i) \n",
    "        s = s + 1    \n",
    "    return s"
   ]
  },
  {
   "cell_type": "code",
   "execution_count": 8,
   "metadata": {},
   "outputs": [
    {
     "data": {
      "text/plain": [
       "3"
      ]
     },
     "execution_count": 8,
     "metadata": {},
     "output_type": "execute_result"
    }
   ],
   "source": [
    "best_count([1, 2, 3])"
   ]
  },
  {
   "cell_type": "code",
   "execution_count": 9,
   "metadata": {},
   "outputs": [
    {
     "data": {
      "text/plain": [
       "3"
      ]
     },
     "execution_count": 9,
     "metadata": {},
     "output_type": "execute_result"
    }
   ],
   "source": [
    "best_count([1, [], 3])"
   ]
  },
  {
   "cell_type": "code",
   "execution_count": 16,
   "metadata": {},
   "outputs": [
    {
     "data": {
      "text/plain": [
       "7"
      ]
     },
     "execution_count": 16,
     "metadata": {},
     "output_type": "execute_result"
    }
   ],
   "source": [
    "best_count([1, [1, 2, [3, 4]]])"
   ]
  },
  {
   "cell_type": "code",
   "execution_count": 10,
   "metadata": {},
   "outputs": [
    {
     "data": {
      "text/plain": [
       "10"
      ]
     },
     "execution_count": 10,
     "metadata": {},
     "output_type": "execute_result"
    }
   ],
   "source": [
    "best_count([[[[[[[[1, 2, 3]]]]]]]])"
   ]
  }
 ],
 "metadata": {
  "kernelspec": {
   "display_name": "Python 3 (ipykernel)",
   "language": "python",
   "name": "python3"
  },
  "language_info": {
   "codemirror_mode": {
    "name": "ipython",
    "version": 3
   },
   "file_extension": ".py",
   "mimetype": "text/x-python",
   "name": "python",
   "nbconvert_exporter": "python",
   "pygments_lexer": "ipython3",
   "version": "3.9.13"
  }
 },
 "nbformat": 4,
 "nbformat_minor": 2
}
