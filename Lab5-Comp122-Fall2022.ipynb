{
 "cells": [
  {
   "cell_type": "markdown",
   "metadata": {},
   "source": [
    "## Lab 5 - Comp122 - Fall 2022 "
   ]
  },
  {
   "cell_type": "markdown",
   "metadata": {},
   "source": [
    "# ord( ) and chr( ) functions in Python\n",
    "\n",
    "Python <b>ord()</b> function returns the Unicode code from a given character. This function accepts a string of unit length as an argument and returns the Unicode equivalence of the passed argument. In other words, given a string of length 1, the ord() function returns an integer representing the Unicode code point of the character when an argument is a Unicode object.\n",
    "\n",
    "Python <b> chr()</b> function is used to get a string representing of a character which points to a Unicode code integer. For example, chr(97) returns the string 'a'. This function takes an integer argument and throws an error if it exceeds from the specified range. The standard range of the argument is from 0 to 1,114,111.\n",
    "\n",
    "\n",
    "\"The Unicode Standard provides a unique number for every character, no matter what platform, device, application or language. It has been adopted by all modern software providers and now allows data to be transported through many different platforms, devices and applications without corruption. Support of Unicode forms the foundation for the representation of languages and symbols in all major operating systems, search engines, browsers, laptops, and smart phones—plus the Internet and World Wide Web (URLs, HTML, XML, CSS, JSON, etc.)\""
   ]
  },
  {
   "cell_type": "code",
   "execution_count": 8,
   "metadata": {},
   "outputs": [
    {
     "name": "stdout",
     "output_type": "stream",
     "text": [
      "122\n"
     ]
    }
   ],
   "source": [
    "print(ord('z'))"
   ]
  },
  {
   "cell_type": "code",
   "execution_count": 66,
   "metadata": {},
   "outputs": [
    {
     "name": "stdout",
     "output_type": "stream",
     "text": [
      "a\n"
     ]
    }
   ],
   "source": [
    "print(chr(97))"
   ]
  },
  {
   "cell_type": "code",
   "execution_count": 5,
   "metadata": {},
   "outputs": [
    {
     "name": "stdout",
     "output_type": "stream",
     "text": [
      "unicode numnbers for 'a' is  97 and for 'A'  is 65\n",
      "Character for unicode of 90 is  Z\n"
     ]
    }
   ],
   "source": [
    "print (\"unicode numnbers for 'a' is \", ord('a'),\"and for 'A'  is\",ord('A'))\n",
    "print (\"Character for unicode of 90 is \", chr(90))"
   ]
  },
  {
   "cell_type": "markdown",
   "metadata": {},
   "source": [
    "1. Write a funtion, the_next, which takes as its input a lowercase letter, a-z and returns the next letter in the alphabet after it, with 'a' \n",
    "following 'z'.\n"
   ]
  },
  {
   "cell_type": "code",
   "execution_count": 1,
   "metadata": {},
   "outputs": [],
   "source": [
    "# the_next('a')\n",
    "# >>> b\n",
    "# the_next('n')\n",
    "# >>> o\n",
    "# the_next('z')\n",
    "# >>> a\n",
    "\n",
    "#your code here\n",
    "def the_next(lowercase_letter):\n",
    "    if ord(lowercase_letter) == 122:\n",
    "        return chr(97)\n",
    "    else:\n",
    "        return chr(ord(lowercase_letter) + 1)"
   ]
  },
  {
   "cell_type": "code",
   "execution_count": 2,
   "metadata": {},
   "outputs": [
    {
     "data": {
      "text/plain": [
       "'b'"
      ]
     },
     "execution_count": 2,
     "metadata": {},
     "output_type": "execute_result"
    }
   ],
   "source": [
    "the_next('a')"
   ]
  },
  {
   "cell_type": "code",
   "execution_count": 3,
   "metadata": {},
   "outputs": [
    {
     "data": {
      "text/plain": [
       "'o'"
      ]
     },
     "execution_count": 3,
     "metadata": {},
     "output_type": "execute_result"
    }
   ],
   "source": [
    "the_next('n')"
   ]
  },
  {
   "cell_type": "code",
   "execution_count": 4,
   "metadata": {},
   "outputs": [
    {
     "data": {
      "text/plain": [
       "'a'"
      ]
     },
     "execution_count": 4,
     "metadata": {},
     "output_type": "execute_result"
    }
   ],
   "source": [
    "the_next('z')"
   ]
  },
  {
   "cell_type": "markdown",
   "metadata": {},
   "source": [
    "2. Write a function, the_next_n_letters which takes as its input a lowercase letter, a-z, and an integer n, and returns the letter n steps in the\n",
    "alphabet after it. Note that 'a' follows 'z', and that n can be positive, negative or zero."
   ]
  },
  {
   "cell_type": "code",
   "execution_count": 5,
   "metadata": {},
   "outputs": [],
   "source": [
    "# the_next_n_letters('s', 1)\n",
    "# >>> t\n",
    "# the_next_n_letters('s', 2)\n",
    "# >>> u\n",
    "# the_next_n_letters('s', 10)\n",
    "# >>> c\n",
    "# the_next_n_letters('s', -10)\n",
    "# >>> i\n",
    "\n",
    "def the_next_n_letters(lowercase_letter, n):\n",
    "    dr2 = chr((ord(lowercase_letter) - ord('a') + n ) % 26 + ord('a') )\n",
    "    return dr2"
   ]
  },
  {
   "cell_type": "code",
   "execution_count": 6,
   "metadata": {},
   "outputs": [
    {
     "data": {
      "text/plain": [
       "'a'"
      ]
     },
     "execution_count": 6,
     "metadata": {},
     "output_type": "execute_result"
    }
   ],
   "source": [
    "the_next_n_letters('z', 1)"
   ]
  },
  {
   "cell_type": "code",
   "execution_count": 7,
   "metadata": {},
   "outputs": [
    {
     "data": {
      "text/plain": [
       "'t'"
      ]
     },
     "execution_count": 7,
     "metadata": {},
     "output_type": "execute_result"
    }
   ],
   "source": [
    "the_next_n_letters('s', 1)"
   ]
  },
  {
   "cell_type": "code",
   "execution_count": 8,
   "metadata": {},
   "outputs": [
    {
     "data": {
      "text/plain": [
       "'u'"
      ]
     },
     "execution_count": 8,
     "metadata": {},
     "output_type": "execute_result"
    }
   ],
   "source": [
    "the_next_n_letters('s', 2)"
   ]
  },
  {
   "cell_type": "code",
   "execution_count": 9,
   "metadata": {},
   "outputs": [
    {
     "data": {
      "text/plain": [
       "'c'"
      ]
     },
     "execution_count": 9,
     "metadata": {},
     "output_type": "execute_result"
    }
   ],
   "source": [
    "the_next_n_letters('s', 10)"
   ]
  },
  {
   "cell_type": "markdown",
   "metadata": {},
   "source": [
    "3. Write a function, next_up_or_down which takes as its input a string of lower case letters, a-z,and an integer n, and returns the string constructed by shifting each of the letters n steps, and leaving the spaces unchanged. Note that 'a' follows 'z'. Note: n can be positive, negative or zero."
   ]
  },
  {
   "cell_type": "code",
   "execution_count": 126,
   "metadata": {},
   "outputs": [
    {
     "name": "stdout",
     "output_type": "stream",
     "text": [
      "97\n"
     ]
    }
   ],
   "source": [
    "print(ord('a'))"
   ]
  },
  {
   "cell_type": "code",
   "execution_count": 64,
   "metadata": {},
   "outputs": [
    {
     "name": "stdout",
     "output_type": "stream",
     "text": [
      "n\n"
     ]
    }
   ],
   "source": [
    "print(chr(110))"
   ]
  },
  {
   "cell_type": "code",
   "execution_count": 10,
   "metadata": {},
   "outputs": [],
   "source": [
    "#next_up_or_down('abc',13)\n",
    "#>>> 'nop'\n",
    "#next_up_or_down('nop',13)\n",
    "#>>> 'abc'\n",
    "#next_up_or_down('ifaj',-5)\n",
    "#>>> 'dave'\n",
    "\n",
    "#your code here\n",
    "def next_up_or_down(St, n):\n",
    "    e = \"\"\n",
    "    for i in range(len(St)):\n",
    "        letter = St[i]\n",
    "        final_letter = chr((ord(letter) - ord('a') + n ) % 26 + ord('a') )\n",
    "        e = e + final_letter\n",
    "    return e"
   ]
  },
  {
   "cell_type": "code",
   "execution_count": 11,
   "metadata": {},
   "outputs": [
    {
     "data": {
      "text/plain": [
       "'dave'"
      ]
     },
     "execution_count": 11,
     "metadata": {},
     "output_type": "execute_result"
    }
   ],
   "source": [
    "next_up_or_down('ifaj', -5)"
   ]
  },
  {
   "cell_type": "code",
   "execution_count": 12,
   "metadata": {},
   "outputs": [
    {
     "data": {
      "text/plain": [
       "'abc'"
      ]
     },
     "execution_count": 12,
     "metadata": {},
     "output_type": "execute_result"
    }
   ],
   "source": [
    "next_up_or_down('nop',13)"
   ]
  },
  {
   "cell_type": "markdown",
   "metadata": {},
   "source": [
    "4. Print the value of key ‘python’ from the following dictionary"
   ]
  },
  {
   "cell_type": "code",
   "execution_count": 13,
   "metadata": {},
   "outputs": [
    {
     "name": "stdout",
     "output_type": "stream",
     "text": [
      "90\n"
     ]
    }
   ],
   "source": [
    "MyDict = {\n",
    "    \"class\": {\n",
    "        \"student\": {\n",
    "            \"name\": \"Mike\",\n",
    "            \"marks\": {\n",
    "                \"physics\": 70,\n",
    "                \"python\": 90\n",
    "            }\n",
    "        }\n",
    "    }\n",
    "}\n",
    "\n",
    "#your code here\n",
    "print(MyDict[\"class\"][\"student\"][\"marks\"][\"python\"])"
   ]
  },
  {
   "cell_type": "markdown",
   "metadata": {},
   "source": [
    "5. The built-in <string>.split() funtion works okay, but fails to find all the words on a page because it only uses whitespace to split the string. To do better, we should also use punctuation marks to split the page into words.\n",
    "\n",
    "Define a funtion, smart_split_string, that takes two inputs: the string to split and a string containing all of the characters considered separators. Your function should return a list of strings that break the source string up by the characters in the splitlist.\n"
   ]
  },
  {
   "cell_type": "code",
   "execution_count": 14,
   "metadata": {},
   "outputs": [],
   "source": [
    "#>>> ['This', 'is', 'a', 'test', 'of', 'the', 'string', 'separation', 'code']\n",
    "\n",
    "#smart_split_string(\"After  the flood   ...  all the colors came out.\", \" .\")\n",
    "\n",
    "#>>> ['After', 'the', 'flood', 'all', 'the', 'colors', 'came', 'out']\n",
    "\n",
    "#smart_split_string(\"First Name,Last Name,Street Address,City,State,Zip Code\",\",\")\n",
    "\n",
    "#>>>['First Name', 'Last Name', 'Street Address', 'City', 'State', 'Zip Code']\n",
    "\n",
    "#def smart_split_string(source,splitlist):\n",
    "    \n",
    "#your code here\n",
    "def smart_split_string(source, splitlist):\n",
    "    output = []\n",
    "    split2 = True\n",
    "    for ch in source:\n",
    "        if ch in splitlist:\n",
    "           #print('hi')\n",
    "            split2 = True\n",
    "        else:\n",
    "            if split2:\n",
    "                output.append(ch)\n",
    "                split2 = False\n",
    "            else:\n",
    "                output[-1] = output[-1] + ch\n",
    "                #print('bye')\n",
    "    return output"
   ]
  },
  {
   "cell_type": "code",
   "execution_count": 17,
   "metadata": {},
   "outputs": [
    {
     "data": {
      "text/plain": [
       "['This', 'is', 'a', 'test', 'of', 'the', 'string', 'separation', 'code']"
      ]
     },
     "execution_count": 17,
     "metadata": {},
     "output_type": "execute_result"
    }
   ],
   "source": [
    "smart_split_string(\"This is a test-of the,string separation-code!\",\" ,!-\")"
   ]
  },
  {
   "cell_type": "code",
   "execution_count": 18,
   "metadata": {},
   "outputs": [
    {
     "data": {
      "text/plain": [
       "['After', 'the', 'flood', 'all', 'the', 'colors', 'came', 'out']"
      ]
     },
     "execution_count": 18,
     "metadata": {},
     "output_type": "execute_result"
    }
   ],
   "source": [
    "smart_split_string(\"After  the flood   ...  all the colors came out.\", \" .\")"
   ]
  },
  {
   "cell_type": "code",
   "execution_count": 19,
   "metadata": {},
   "outputs": [
    {
     "data": {
      "text/plain": [
       "['First Name', 'Last Name', 'Street Address', 'City', 'State', 'Zip Code']"
      ]
     },
     "execution_count": 19,
     "metadata": {},
     "output_type": "execute_result"
    }
   ],
   "source": [
    "smart_split_string(\"First Name,Last Name,Street Address,City,State,Zip Code\",\",\")"
   ]
  }
 ],
 "metadata": {
  "kernelspec": {
   "display_name": "Python 3 (ipykernel)",
   "language": "python",
   "name": "python3"
  },
  "language_info": {
   "codemirror_mode": {
    "name": "ipython",
    "version": 3
   },
   "file_extension": ".py",
   "mimetype": "text/x-python",
   "name": "python",
   "nbconvert_exporter": "python",
   "pygments_lexer": "ipython3",
   "version": "3.9.13"
  }
 },
 "nbformat": 4,
 "nbformat_minor": 2
}
