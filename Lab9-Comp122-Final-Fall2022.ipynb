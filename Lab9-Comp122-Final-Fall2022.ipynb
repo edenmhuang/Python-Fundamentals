{
 "cells": [
  {
   "cell_type": "markdown",
   "metadata": {},
   "source": [
    "# Lab 9 - Comp 122 - Final Project - Due 12/12/2022 at 12:12 am "
   ]
  },
  {
   "cell_type": "markdown",
   "metadata": {},
   "source": [
    "\n",
    "1.\n",
    "Write a recursive function two_adjacent_five that takes in a number k and determines if the digits contain two adjacent 5s. k is at least a two-digit number"
   ]
  },
  {
   "cell_type": "code",
   "execution_count": null,
   "metadata": {},
   "outputs": [],
   "source": [
    "def two_adjacent_five(k):\n",
    "    \"\"\" Returns whether or not k has two digits in row that\n",
    "    are the number 5\n",
    "    >>> two_adjacent_five(535535)\n",
    "    True\n",
    "    >>> two_adjacent_five(254652)\n",
    "    False\n",
    "    >>> two_adjacent_five(255138)\n",
    "    True\n",
    "    >>> two_adjacent_five(75)\n",
    "    False\n",
    "    \"\"\""
   ]
  },
  {
   "cell_type": "code",
   "execution_count": 15,
   "metadata": {},
   "outputs": [],
   "source": [
    "def two_adjacent_five(k):\n",
    "    if len(str((k))) == 2:\n",
    "        if k == 55:\n",
    "            return True\n",
    "        elif k != 55:\n",
    "            return False\n",
    "    elif len(str((k))) !=2:\n",
    "        # breaking problem down:\n",
    "        return two_adjacent_five( int(str(k)[1:]) ) or two_adjacent_five( int(str(k)[:-1]) )"
   ]
  },
  {
   "cell_type": "code",
   "execution_count": 20,
   "metadata": {},
   "outputs": [
    {
     "data": {
      "text/plain": [
       "True"
      ]
     },
     "execution_count": 20,
     "metadata": {},
     "output_type": "execute_result"
    }
   ],
   "source": [
    "two_adjacent_five(535535)"
   ]
  },
  {
   "cell_type": "markdown",
   "metadata": {},
   "source": [
    "2.\n",
    "write the function i_join, which takes in only two lists and returns a list that contains lists with i-th elements of two sequences join together. The lengths of two sequences are the same. "
   ]
  },
  {
   "cell_type": "code",
   "execution_count": 21,
   "metadata": {},
   "outputs": [],
   "source": [
    "def i_join(m, n):\n",
    "    \"\"\"Return a list of two-element [m[i], n[i]].\n",
    "\n",
    "    >>> a = [1, 2, 3]\n",
    "    >>> b = [4, 5, 6]\n",
    "    >>> i_join(a, b)\n",
    "    [[1, 4], [2, 5], [3, 6]]\n",
    "    >>> x = ['c', 12]\n",
    "    >>> y = ['h', '1']\n",
    "    >>> i_join(x, y)\n",
    "    [['c', 'h'], [12, '1']]\n",
    "    \"\"\""
   ]
  },
  {
   "cell_type": "code",
   "execution_count": 17,
   "metadata": {},
   "outputs": [],
   "source": [
    "def i_join(m, n):\n",
    "    final_list = []\n",
    "    for i in range(len(m)):\n",
    "        new_list = [m[i], n[i]]     \n",
    "        final_list.append(new_list)   \n",
    "    print(final_list)"
   ]
  },
  {
   "cell_type": "code",
   "execution_count": 12,
   "metadata": {},
   "outputs": [
    {
     "name": "stdout",
     "output_type": "stream",
     "text": [
      "[[1, 4], [2, 5], [3, 6]]\n"
     ]
    }
   ],
   "source": [
    "i_join([1, 2, 3],[4, 5, 6])"
   ]
  },
  {
   "cell_type": "code",
   "execution_count": 19,
   "metadata": {},
   "outputs": [
    {
     "name": "stdout",
     "output_type": "stream",
     "text": [
      "[['c', 'h'], [12, '1']]\n"
     ]
    }
   ],
   "source": [
    "i_join(['c', 12], ['h', '1'])"
   ]
  },
  {
   "cell_type": "markdown",
   "metadata": {},
   "source": [
    "3.\n",
    "Consider a particular version of fleas where instead of taking 1 step, they can take up to and include k steps at a time. Write a function count_flea_steps that determines the number of paths for this scenario. Of course, we are assuming n and k are positive."
   ]
  },
  {
   "cell_type": "code",
   "execution_count": null,
   "metadata": {},
   "outputs": [],
   "source": [
    "def count_flea_steps(n, k):\n",
    "    \"\"\" Counts the number of paths up that the flea can jump of n objects\n",
    "    with the max of k steps at a time.\n",
    "    >>> count_flea_steps(3, 3) # 3, 2 + 1, 1 + 2, 1 + 1 + 1\n",
    "    4\n",
    "    >>> count_flea_steps(4, 4)\n",
    "    8\n",
    "    >>> count_flea_steps(10, 3)\n",
    "    274\n",
    "    >>> count_flea_steps(4000, 1) # Only one step at a time\n",
    "    1\n",
    "    \"\"\"\n",
    "    (5,5) --> 16\n",
    "    (6,6) --> 32\n",
    "    (7,7) --> 64"
   ]
  },
  {
   "cell_type": "code",
   "execution_count": 1,
   "metadata": {},
   "outputs": [],
   "source": [
    "def count_flea_steps(n, k):\n",
    "    count = 0\n",
    "    if n == 0 or k == 1:\n",
    "        return 1\n",
    "    elif k > n:\n",
    "        k = n \n",
    "    for i in range(1, k+1):\n",
    "        count += count_flea_steps(n - i, k)\n",
    "    return count     "
   ]
  },
  {
   "cell_type": "code",
   "execution_count": 2,
   "metadata": {},
   "outputs": [
    {
     "data": {
      "text/plain": [
       "274"
      ]
     },
     "execution_count": 2,
     "metadata": {},
     "output_type": "execute_result"
    }
   ],
   "source": [
    "count_flea_steps(10,3)"
   ]
  }
 ],
 "metadata": {
  "kernelspec": {
   "display_name": "Python 3 (ipykernel)",
   "language": "python",
   "name": "python3"
  },
  "language_info": {
   "codemirror_mode": {
    "name": "ipython",
    "version": 3
   },
   "file_extension": ".py",
   "mimetype": "text/x-python",
   "name": "python",
   "nbconvert_exporter": "python",
   "pygments_lexer": "ipython3",
   "version": "3.9.13"
  }
 },
 "nbformat": 4,
 "nbformat_minor": 2
}
