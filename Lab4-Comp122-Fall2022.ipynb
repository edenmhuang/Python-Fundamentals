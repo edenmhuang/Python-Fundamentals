{
 "cells": [
  {
   "cell_type": "markdown",
   "metadata": {},
   "source": [
    "# Lab 4 - Comp 122 - Fall 2022"
   ]
  },
  {
   "cell_type": "markdown",
   "metadata": {},
   "source": [
    "1. For this exercise, your goal is to write a Python function to find the prime factorization of a given number.<br>\n",
    "It should take an integer value as the input, and then return a list containing its prime factors.<br>\n",
    "For example, calling the function with an input of 630 should return a list containing the values 2, 3, 3, 5, and 7.<br>\n",
    "Those are all prime numbers. And if you multiply them together, their product is 630. "
   ]
  },
  {
   "cell_type": "code",
   "execution_count": 3,
   "metadata": {},
   "outputs": [
    {
     "data": {
      "text/plain": [
       "[7, 179]"
      ]
     },
     "execution_count": 3,
     "metadata": {},
     "output_type": "execute_result"
    }
   ],
   "source": [
    "def myprime(num):\n",
    "    myfactors = []\n",
    "    i = 2\n",
    "    while num > 1:\n",
    "        if num % i == 0:\n",
    "            num = num / i \n",
    "            myfactors.append(i)\n",
    "        else: \n",
    "            i += 1\n",
    "    return myfactors\n",
    "\n",
    "myprime(1253)"
   ]
  },
  {
   "cell_type": "markdown",
   "metadata": {},
   "source": [
    "2. Identifying patterns within strings or other data structures is a standard programming task.<br>\n",
    "For this exersice, your goal is to write a Python function that determines if a given string is a palindrome.<br>\n",
    "A palindrome is a word or phrase that reads the same forwards as backward.<br>\n",
    "For example, the word level is spelled the same forwards and backward, and race car is a combination of two words that's the same both ways, ignoring the space between them.<br>\n",
    "Your function should accept a single input of the string to evaluate and return a Boolean value indicating whether or not that string was a palindrome.<br>\n",
    "Your function should only consider letters, A through Z, when evaluating the string and you should ignore their case, treating uppercase and lowercase letters as being the same."
   ]
  },
  {
   "cell_type": "code",
   "execution_count": 1,
   "metadata": {},
   "outputs": [],
   "source": [
    "def my_palindrome(word):\n",
    "    word = word.lower()\n",
    "    word = word.split()\n",
    "    var = \"\"\n",
    "    for i in word:\n",
    "        var = var + i\n",
    "    original_word = var\n",
    "    if original_word == var[::-1]:\n",
    "        return True\n",
    "    else:\n",
    "        return False   "
   ]
  },
  {
   "cell_type": "code",
   "execution_count": 2,
   "metadata": {},
   "outputs": [
    {
     "data": {
      "text/plain": [
       "True"
      ]
     },
     "execution_count": 2,
     "metadata": {},
     "output_type": "execute_result"
    }
   ],
   "source": [
    "my_palindrome('race cAR')"
   ]
  },
  {
   "cell_type": "markdown",
   "metadata": {},
   "source": [
    "3. Python's index method finds the index of the first item in a list, but what if there are multiple instances of that item?<br>\n",
    "Your goal for this exercise is to write a Python function to find the indices for all items in a list that are equal to a given value.<br>\n",
    "Your function should accept two input parameters; the list to search and the value you're searching for.<br>\n",
    "The output should be a list of indices, each represented by a list of numbers.<br>\n",
    "Keep in mind that Python lists can also contain other lists, so your function should be able to traverse multidimensional lists to find all indices of the given value. For example, if I wanted to find all of the twos in this list, <br>\n",
    "mylist = [[[1,2,3],2,[1,3]],[1,2,3]]<br>\n",
    "index_function(mylist,2)<br>\n",
    "the output should be [[0,0,1],[0,1],[1,1]]<br>"
   ]
  },
  {
   "cell_type": "code",
   "execution_count": 8,
   "metadata": {},
   "outputs": [],
   "source": [
    "def indexall(l, x):\n",
    "    myindex = [] #or list()\n",
    "    for i in range(len(l)):\n",
    "        #print(l[i])\n",
    "        if l[i] == x:\n",
    "            myindex.append([i])\n",
    "            #print(myindex)\n",
    "        elif type(l[i]) == list:\n",
    "            for k in indexall(l[i], x): #k is the index\n",
    "                #print(k)\n",
    "                myindex.append([i] + k)\n",
    "            #nested one is a list call the function\n",
    "        \n",
    "    return myindex"
   ]
  },
  {
   "cell_type": "code",
   "execution_count": 9,
   "metadata": {},
   "outputs": [
    {
     "data": {
      "text/plain": [
       "[[0], [1, 0], [2], [4, 2]]"
      ]
     },
     "execution_count": 9,
     "metadata": {},
     "output_type": "execute_result"
    }
   ],
   "source": [
    "mylist = [5, [5, 6], 5, 13, [9, 7, 5]]\n",
    "indexall(mylist, 5)"
   ]
  },
  {
   "cell_type": "markdown",
   "metadata": {},
   "source": [
    "4. My_tuple is a nested tuple. Write python code to modify the first item (9) of a list inside a following tuple to 99<br>\n",
    "My_tuple = (11, [9, 33], 44, 55)"
   ]
  },
  {
   "cell_type": "code",
   "execution_count": 5,
   "metadata": {},
   "outputs": [
    {
     "name": "stdout",
     "output_type": "stream",
     "text": [
      "(11, [9, 99], 44, 55)\n"
     ]
    }
   ],
   "source": [
    "My_tuple = (11, [9, 33], 44, 55)\n",
    "My_tuple[1][1] = 99\n",
    "print(My_tuple)"
   ]
  },
  {
   "cell_type": "markdown",
   "metadata": {},
   "source": [
    "5. Write a python function that takes a tuple as an input and returns true if all items in the tuple are the same.<br>\n",
    "For example:<br>\n",
    "t = (5, 5, 5,5,5)<br>\n",
    "myfunction(t)<br>\n",
    "TRUE"
   ]
  },
  {
   "cell_type": "code",
   "execution_count": 6,
   "metadata": {},
   "outputs": [],
   "source": [
    "def myfunction(t):\n",
    "    for i in range(len(t) - 1):\n",
    "        if type(t[i]) == type(t[i + 1]):\n",
    "            if t[i] == t[i + 1]:\n",
    "                i += 1\n",
    "            else:\n",
    "                return False\n",
    "        else:\n",
    "            return False\n",
    "    return True"
   ]
  },
  {
   "cell_type": "code",
   "execution_count": 7,
   "metadata": {},
   "outputs": [
    {
     "data": {
      "text/plain": [
       "True"
      ]
     },
     "execution_count": 7,
     "metadata": {},
     "output_type": "execute_result"
    }
   ],
   "source": [
    "t = ([5, 5], [5, 5], [5, 5], [5, 5], [5, 5])\n",
    "myfunction(t)"
   ]
  }
 ],
 "metadata": {
  "kernelspec": {
   "display_name": "Python 3 (ipykernel)",
   "language": "python",
   "name": "python3"
  },
  "language_info": {
   "codemirror_mode": {
    "name": "ipython",
    "version": 3
   },
   "file_extension": ".py",
   "mimetype": "text/x-python",
   "name": "python",
   "nbconvert_exporter": "python",
   "pygments_lexer": "ipython3",
   "version": "3.9.13"
  }
 },
 "nbformat": 4,
 "nbformat_minor": 2
}
