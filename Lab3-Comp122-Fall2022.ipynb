{
 "cells": [
  {
   "cell_type": "markdown",
   "metadata": {},
   "source": [
    "# Lab 3 Comp 122 Fall 2022"
   ]
  },
  {
   "cell_type": "markdown",
   "metadata": {},
   "source": [
    "1. Write a recursive function named <b> int_sum</b> that takes an integer (n) and adds all the digits in n (n is non-negative integer). Example, int_sum(24) > 6<br>\n",
    "int_sum(1457) > 17 <br>\n",
    "int_sum(2400) > 6"
   ]
  },
  {
   "cell_type": "code",
   "execution_count": 1,
   "metadata": {},
   "outputs": [
    {
     "data": {
      "text/plain": [
       "21"
      ]
     },
     "execution_count": 1,
     "metadata": {},
     "output_type": "execute_result"
    }
   ],
   "source": [
    "def int_sum(n):\n",
    "    n = str(n)\n",
    "    if len(n) == 1:\n",
    "        return n\n",
    "    else:\n",
    "        return int(n[-1]) + int(int_sum(n[0:len(n) - 1]))\n",
    "    \n",
    "int_sum(17454)"
   ]
  },
  {
   "cell_type": "markdown",
   "metadata": {},
   "source": [
    "2. <b>Fermat’s</b> Last Theorem says that there are no positive integers a, b, and c such that\n",
    "for any values of n greater than 2.\n",
    "<center><br><h2> a<sup>n</sup>+b<sup>n</sup>=c<sup>n</sup></h2></center><br>\n",
    "\n",
    "Write a function named check_fermat that takes four parameters a, b, c and n and that\n",
    "checks to see if Fermat’s theorem holds. If n is greater than 2 and it turns out to be true that<br><center><br><h2> a<sup>n</sup>+b<sup>n</sup>=c<sup>n</sup></h2></center><br><br>\n",
    "the program should print, “Holy smokes, Fermat was wrong!” Otherwise the program should\n",
    "print, “No, that doesn’t work.”"
   ]
  },
  {
   "cell_type": "code",
   "execution_count": 2,
   "metadata": {},
   "outputs": [
    {
     "name": "stdout",
     "output_type": "stream",
     "text": [
      "No, that doesn't work.\n"
     ]
    }
   ],
   "source": [
    "def check_fermat(a, b, c, n):\n",
    "    x = a**n + b**n\n",
    "    y = c**n\n",
    "    if (x == y) and (n > 2):\n",
    "        print(\"Holy smokes, Fermat was wrong!\")\n",
    "    else:\n",
    "        print(\"No, that doesn't work.\")\n",
    "\n",
    "check_fermat(4, 5, 7, 1)"
   ]
  },
  {
   "cell_type": "markdown",
   "metadata": {},
   "source": [
    "3. Write a recursive function named<b> l_sum</b> to calculate the sum of a list of numbers.<br>\n",
    "example: l_sum([1,3,4,5,6]) > 19<br>\n",
    "l_sum([5,10,20]) > 35"
   ]
  },
  {
   "cell_type": "code",
   "execution_count": 3,
   "metadata": {
    "scrolled": true
   },
   "outputs": [
    {
     "data": {
      "text/plain": [
       "8"
      ]
     },
     "execution_count": 3,
     "metadata": {},
     "output_type": "execute_result"
    }
   ],
   "source": [
    "def I_sum(num):\n",
    "    if len(num) == 0:\n",
    "        return 0\n",
    "    else:\n",
    "        return num[0] + I_sum(num[1:])\n",
    "    \n",
    "I_sum([1, 2, 5])"
   ]
  },
  {
   "cell_type": "markdown",
   "metadata": {},
   "source": [
    "4. Write a recursive function named sum_i to calculate the sum of the positive integers of i +(i-2)+(i-4)... (until i-n =< 0).<br>\n",
    "Example: <br>\n",
    "sum_i(10) > 30 <br>\n",
    "sum_i(6) > 12"
   ]
  },
  {
   "cell_type": "code",
   "execution_count": 22,
   "metadata": {},
   "outputs": [
    {
     "data": {
      "text/plain": [
       "110"
      ]
     },
     "execution_count": 22,
     "metadata": {},
     "output_type": "execute_result"
    }
   ],
   "source": [
    "def sum_i(num):\n",
    "    if num == 0:\n",
    "        return 0\n",
    "    else:\n",
    "        return num + sum_i(num - 2)\n",
    "\n",
    "sum_i(20)"
   ]
  },
  {
   "cell_type": "markdown",
   "metadata": {},
   "source": [
    "5. Write a function named str_list_n to find the list of words that are longer than n from a given string of words.<br>example:<br>\n",
    "str_list_n(5, \"The way to get started is to quit talking and begin doing. -Walt Disney\")<br>\n",
    "['started', 'talking', 'doing.', 'Disney']<br><br>\n",
    "str_list_n(7,\"Life is what happens when you're busy making other plans. -John Lennon\")<br>\n",
    "[ ]<br><br>\n",
    "str_list_n(5,\"Life is what happens when you're busy making other plans. -John Lennon\")<br>\n",
    "['happens', \"you're\", 'making', 'plans.', 'Lennon']\n",
    "\n"
   ]
  },
  {
   "cell_type": "code",
   "execution_count": 5,
   "metadata": {},
   "outputs": [
    {
     "data": {
      "text/plain": [
       "['started', 'talking', 'doing.', 'Disney']"
      ]
     },
     "execution_count": 5,
     "metadata": {},
     "output_type": "execute_result"
    }
   ],
   "source": [
    "def str_list_n(a, b):\n",
    "    b = b.split()\n",
    "    l = []\n",
    "    for i in b:\n",
    "        if len(i) > a:\n",
    "            l.append(i)\n",
    "    return l   \n",
    "\n",
    "str_list_n(5,\"The way to get started is to quit talking and begin doing. -Walt Disney\")     "
   ]
  },
  {
   "cell_type": "code",
   "execution_count": 6,
   "metadata": {},
   "outputs": [
    {
     "name": "stdout",
     "output_type": "stream",
     "text": [
      "['hi', 'world']\n",
      "hi\n",
      "world\n"
     ]
    }
   ],
   "source": [
    "b = \"hi world\"\n",
    "b = b.split()\n",
    "print(b)\n",
    "for i in b: \n",
    "    print(i)"
   ]
  },
  {
   "cell_type": "markdown",
   "metadata": {},
   "source": [
    "6. Write a function named my_max_fun that takes a list of numbers and returns the largest number from a list. You cannot use the max() Built-in function. <br>\n",
    "Example: my_max_fun([1,2,3,56,87,12])  > 87"
   ]
  },
  {
   "cell_type": "code",
   "execution_count": 7,
   "metadata": {},
   "outputs": [
    {
     "name": "stdout",
     "output_type": "stream",
     "text": [
      "90\n"
     ]
    }
   ],
   "source": [
    "def my_max_fun(num):\n",
    "    num2 = num.sort()\n",
    "    print(num[len(num) - 1])\n",
    "\n",
    "my_max_fun([1,2,3,56,90,12])"
   ]
  },
  {
   "cell_type": "code",
   "execution_count": 8,
   "metadata": {},
   "outputs": [
    {
     "name": "stdout",
     "output_type": "stream",
     "text": [
      "97\n"
     ]
    }
   ],
   "source": [
    "def my_max_fun(num):\n",
    "    num2 = num.sort()\n",
    "    print(num[-1])\n",
    "\n",
    "my_max_fun([1,2,3,56,97,12])"
   ]
  },
  {
   "cell_type": "markdown",
   "metadata": {},
   "source": [
    "7.  Write a function named my_multiply that takes a list of numbers and returns the multiply of all the items in a list.<br>Example:<br>\n",
    "my_multiply([1,2,3,4,5]) > 120<br>\n",
    "my_multiply([2,15]) > 30"
   ]
  },
  {
   "cell_type": "code",
   "execution_count": 20,
   "metadata": {},
   "outputs": [],
   "source": [
    "def my_multiply(n):\n",
    "    if len(n) == 1:\n",
    "        return n[0]\n",
    "    else:\n",
    "        return n[0] * my_multiply(n[1:]) "
   ]
  },
  {
   "cell_type": "code",
   "execution_count": 21,
   "metadata": {},
   "outputs": [
    {
     "data": {
      "text/plain": [
       "120"
      ]
     },
     "execution_count": 21,
     "metadata": {},
     "output_type": "execute_result"
    }
   ],
   "source": [
    "my_multiply([1,2,3,4,5])"
   ]
  },
  {
   "cell_type": "markdown",
   "metadata": {},
   "source": [
    "8. Write a python code to add item 11 after 1002 in the following Python List:<br>\n",
    "<center>\n",
    "  <h2>  my_list = [30, 20, [200, 40, [1001, 1002], 500], 30, 40]</h2></center>"
   ]
  },
  {
   "cell_type": "code",
   "execution_count": 10,
   "metadata": {},
   "outputs": [
    {
     "name": "stdout",
     "output_type": "stream",
     "text": [
      "[30, 20, [200, 40, [1001, 1002, 11], 500], 30, 40]\n"
     ]
    }
   ],
   "source": [
    "my_list = [30, 20, [200, 40, [1001, 1002], 500], 30, 40]\n",
    "(my_list[2][2]).insert(2,11)\n",
    "print(my_list)"
   ]
  },
  {
   "cell_type": "markdown",
   "metadata": {},
   "source": [
    "# Python List index()"
   ]
  },
  {
   "cell_type": "markdown",
   "metadata": {},
   "source": [
    "The index() method returns the index of the specified element in the list.<br>\n",
    "Example:"
   ]
  },
  {
   "cell_type": "code",
   "execution_count": 12,
   "metadata": {},
   "outputs": [
    {
     "name": "stdout",
     "output_type": "stream",
     "text": [
      "index of dog is at : 1  and index of horse is at:  3\n"
     ]
    }
   ],
   "source": [
    "animals = ['cat', 'dog', 'rabbit', 'horse']\n",
    "# get the index of 'dog'\n",
    "index_dog = animals.index('dog')\n",
    "index_horse = animals.index('horse')\n",
    "print(\"index of dog is at :\" , index_dog,\" and index of horse is at: \", index_horse)"
   ]
  },
  {
   "cell_type": "markdown",
   "metadata": {},
   "source": [
    "9. Write a python code to find value 1011 in the following list and replace it with 2022. Only update the first occurrence of an item.<br>\n",
    "list1 = [11, 101, 1101, 1011, 1111, 1110, 1]<br>\n",
    "your code should print<br>\n",
    "[11, 101, 1101, 2022, 1111, 0111, 1]"
   ]
  },
  {
   "cell_type": "code",
   "execution_count": 17,
   "metadata": {},
   "outputs": [
    {
     "name": "stdout",
     "output_type": "stream",
     "text": [
      "3\n",
      "[11, 101, 1101, 2022, 1111, 1110, 1]\n"
     ]
    }
   ],
   "source": [
    "list1 = [11, 101, 1101, 1011, 1111, 1110, 1]\n",
    "\n",
    "index_1011 = list1.index(1011)\n",
    "print(index_1011)\n",
    "\n",
    "list1[3] = 2022\n",
    "print(list1)"
   ]
  },
  {
   "cell_type": "markdown",
   "metadata": {},
   "source": [
    "# Python List remove()"
   ]
  },
  {
   "cell_type": "markdown",
   "metadata": {},
   "source": [
    "The remove() method removes the first matching element (which is passed as an argument) from the list.<br>\n",
    "Example:"
   ]
  },
  {
   "cell_type": "code",
   "execution_count": 15,
   "metadata": {},
   "outputs": [
    {
     "name": "stdout",
     "output_type": "stream",
     "text": [
      "Updated animals list:  ['cat', 'dog', 'guinea pig']\n"
     ]
    }
   ],
   "source": [
    "# animals list\n",
    "animals = ['cat', 'dog', 'rabbit', 'guinea pig']\n",
    "\n",
    "# 'rabbit' is removed\n",
    "animals.remove('rabbit')\n",
    "\n",
    "# Updated animals List\n",
    "print('Updated animals list: ', animals)"
   ]
  },
  {
   "cell_type": "markdown",
   "metadata": {},
   "source": [
    "10. Write a function named remove_val that takes a list and a value. Your function should remove the value from the list.<br>\n",
    "Example:<br>\n",
    "remove_val([1,2,4,6,90,8,90], 90) > [1,2,4,6,8]"
   ]
  },
  {
   "cell_type": "code",
   "execution_count": 18,
   "metadata": {},
   "outputs": [],
   "source": [
    "def remove_val(a, b):\n",
    "    new_val = []\n",
    "    for i in a:\n",
    "        if i != b:\n",
    "            new_val.append(i)\n",
    "    return new_val"
   ]
  },
  {
   "cell_type": "code",
   "execution_count": 19,
   "metadata": {},
   "outputs": [
    {
     "data": {
      "text/plain": [
       "[1, 4, 6, 8, 90]"
      ]
     },
     "execution_count": 19,
     "metadata": {},
     "output_type": "execute_result"
    }
   ],
   "source": [
    "remove_val([1, 2, 4, 6, 2, 8, 90], 2)"
   ]
  }
 ],
 "metadata": {
  "kernelspec": {
   "display_name": "Python 3 (ipykernel)",
   "language": "python",
   "name": "python3"
  },
  "language_info": {
   "codemirror_mode": {
    "name": "ipython",
    "version": 3
   },
   "file_extension": ".py",
   "mimetype": "text/x-python",
   "name": "python",
   "nbconvert_exporter": "python",
   "pygments_lexer": "ipython3",
   "version": "3.9.13"
  }
 },
 "nbformat": 4,
 "nbformat_minor": 2
}
