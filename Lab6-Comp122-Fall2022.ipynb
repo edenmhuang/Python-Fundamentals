{
 "cells": [
  {
   "cell_type": "markdown",
   "metadata": {},
   "source": [
    "# Lab 6 - Comp 122 - Fall 2022\n"
   ]
  },
  {
   "cell_type": "markdown",
   "metadata": {},
   "source": [
    "Add to Search Index"
   ]
  },
  {
   "cell_type": "markdown",
   "metadata": {},
   "source": [
    "The following function, add_to_my_index, takes three inputs:\n",
    "\n",
    "- an index [keyword, [url, ...] , ...]<br>\n",
    "- a keyword string<br>\n",
    "- a url string<br>\n",
    "If the keyword is already in the index, add the url to the list of urls associated with that keyword.<br>\n",
    "\n",
    "If the keyword is not in the index, add an entry to the index: [keyword, [url]]\n"
   ]
  },
  {
   "cell_type": "code",
   "execution_count": 1,
   "metadata": {},
   "outputs": [],
   "source": [
    "index = []\n",
    "\n",
    "def add_to_my_index(index,keyword,url):\n",
    "    for ent in index:\n",
    "        if ent[0] == keyword:\n",
    "            ent[1].append(url)\n",
    "            return\n",
    "            \n",
    "    return index.append([keyword,[url]])"
   ]
  },
  {
   "cell_type": "markdown",
   "metadata": {},
   "source": [
    "1. Add the following keywords and urls to the index list:<br>\n",
    "keyword: yoga, urls: www.bodiesinmotion.com , www.ymca.org, www.yahoo.com<br>\n",
    "Keyword: math, URL:  www.math811.com  <br>\n",
    "Keyword: stocks,URLs: www.yahoo.com, www.etrade.com, www.robinhood.com"
   ]
  },
  {
   "cell_type": "code",
   "execution_count": 3,
   "metadata": {},
   "outputs": [
    {
     "name": "stdout",
     "output_type": "stream",
     "text": [
      "[['yoga', ['www.bodiesinmotion.com', 'www.ymca.org', 'www.yahoo.com']], ['math', ['www.math811.com ']], ['stocks', ['www.yahoo.com', ' www.etrade.com,', 'www.robinhood.com']]]\n"
     ]
    }
   ],
   "source": [
    "#your code \n",
    "add_to_my_index(index,'yoga','www.bodiesinmotion.com')\n",
    "add_to_my_index(index,'yoga','www.ymca.org')\n",
    "add_to_my_index(index,'yoga','www.yahoo.com')\n",
    "add_to_my_index(index,'math','www.math811.com ')\n",
    "add_to_my_index(index,'stocks','www.yahoo.com')\n",
    "add_to_my_index(index,'stocks',' www.etrade.com,')\n",
    "add_to_my_index(index,'stocks','www.robinhood.com')\n",
    "print(index)"
   ]
  },
  {
   "cell_type": "markdown",
   "metadata": {},
   "source": [
    "The folloing functiom, index_lookup, takes two inputs:<br>\n",
    " - an index<br>\n",
    " - keyword<br>\n",
    "The index_lookup return a list of the urls associated with the keyword. If the keyword is not in the index, the procedure should return an empty list."
   ]
  },
  {
   "cell_type": "code",
   "execution_count": 4,
   "metadata": {},
   "outputs": [],
   "source": [
    "def index_lookup(index,keyword):\n",
    "    for entry in index:\n",
    "        if entry[0] == keyword:\n",
    "            return entry[1]\n",
    "        \n",
    "    return []"
   ]
  },
  {
   "cell_type": "markdown",
   "metadata": {},
   "source": [
    "2. Print all the URL for the keyword \"stocks\""
   ]
  },
  {
   "cell_type": "code",
   "execution_count": 5,
   "metadata": {},
   "outputs": [
    {
     "data": {
      "text/plain": [
       "['www.yahoo.com', ' www.etrade.com,', 'www.robinhood.com']"
      ]
     },
     "execution_count": 5,
     "metadata": {},
     "output_type": "execute_result"
    }
   ],
   "source": [
    "#you code \n",
    "index_lookup(index, 'stocks')"
   ]
  },
  {
   "cell_type": "markdown",
   "metadata": {},
   "source": [
    "# Python String split() Method"
   ]
  },
  {
   "cell_type": "markdown",
   "metadata": {},
   "source": [
    "The split() method splits a string into a list.\n",
    "<br>\n",
    "You can specify the separator, default separator is any whitespace."
   ]
  },
  {
   "cell_type": "code",
   "execution_count": 2,
   "metadata": {},
   "outputs": [
    {
     "name": "stdout",
     "output_type": "stream",
     "text": [
      "Example of split with whitespace\n",
      " ['welcome', 'to', 'the', '#comp', '122,', '#python', 'course', 'in', 'Fall', '2022'] \n",
      "\n",
      "Example of split with hashtags\n",
      " ['welcome to the ', 'comp 122, ', 'python course in Fall 2022'] \n",
      "\n",
      "Example of split with comma\n",
      " ['welcome to the #comp 122', ' #python course in Fall 2022'] \n",
      "\n"
     ]
    }
   ],
   "source": [
    "content = \"welcome to the #comp 122, #python course in Fall 2022\"\n",
    "space = content.split()\n",
    "hashtag = content.split('#')\n",
    "comma = content.split(',')\n",
    "print(\"Example of split with whitespace\\n\", space,'\\n')\n",
    "print (\"Example of split with hashtags\\n\", hashtag,'\\n')\n",
    "print (\"Example of split with comma\\n\", comma,'\\n')"
   ]
  },
  {
   "cell_type": "markdown",
   "metadata": {},
   "source": [
    "3. Define a function, add_page_to_my_index, that takes three inputs:\n",
    "   - index\n",
    "   - url (String)\n",
    "   - content (String)\n",
    "\n",
    "It should update the index to include all of the word occurrences found in the page content by adding the url to the word's associated url list."
   ]
  },
  {
   "cell_type": "code",
   "execution_count": 8,
   "metadata": {},
   "outputs": [],
   "source": [
    "index = []\n",
    "\n",
    "def add_to_my_index(index,keyword,url):\n",
    "    for ent in index:\n",
    "        if ent[0] == keyword:\n",
    "            ent[1].append(url)\n",
    "            return\n",
    "            \n",
    "    return index.append([keyword,[url]])"
   ]
  },
  {
   "cell_type": "code",
   "execution_count": 9,
   "metadata": {},
   "outputs": [
    {
     "data": {
      "text/plain": [
       "[['this', ['www.yahoo.com']],\n",
       " ['is', ['www.yahoo.com']],\n",
       " ['best', ['www.yahoo.com']],\n",
       " ['yoga', ['www.yahoo.com']],\n",
       " ['class', ['www.yahoo.com']],\n",
       " ['in', ['www.yahoo.com']],\n",
       " ['Marin', ['www.yahoo.com']]]"
      ]
     },
     "execution_count": 9,
     "metadata": {},
     "output_type": "execute_result"
    }
   ],
   "source": [
    "def add_page_to_my_index(index, url, content):\n",
    "    for i in content.split():\n",
    "        add_to_my_index(index, i, url)\n",
    "    return index\n",
    "\n",
    "add_page_to_my_index(index,'www.yahoo.com','this is best yoga class in Marin')"
   ]
  },
  {
   "cell_type": "markdown",
   "metadata": {},
   "source": [
    "4. Define a function, union, that takes two lists as inputs. It should modify the first input list to be the set union of the two lists.<br> You may assume the first list\n",
    " is a set, that is, it contains no repeated elements."
   ]
  },
  {
   "cell_type": "code",
   "execution_count": 4,
   "metadata": {},
   "outputs": [
    {
     "data": {
      "text/plain": [
       "{1, 3.3, 6, 'a'}"
      ]
     },
     "execution_count": 4,
     "metadata": {},
     "output_type": "execute_result"
    }
   ],
   "source": [
    "#solution\n",
    "def union(p,q):\n",
    "    p = set(p + q)\n",
    "    return p\n",
    "union([1,'a',3.3],[3.3, 'a', 6])"
   ]
  },
  {
   "cell_type": "markdown",
   "metadata": {},
   "source": [
    "5. Modify the web_crawler function to take a second parameter, max_pages, that limits the number of pages to crawl.<br>\n",
    "Your function should terminate the crawl after max_pages different pages have been crawled, or when there are no more pages to crawl."
   ]
  },
  {
   "cell_type": "code",
   "execution_count": 12,
   "metadata": {},
   "outputs": [],
   "source": [
    "import requests\n",
    "url = 'http://www.kayvanmomeni.com'"
   ]
  },
  {
   "cell_type": "code",
   "execution_count": 13,
   "metadata": {},
   "outputs": [],
   "source": [
    "def get_all_url(page):\n",
    "    url_list = []\n",
    "    while '<a href=\"' in page:\n",
    "        if page.find('<a href=\"') == -1: \n",
    "            break\n",
    "        else:\n",
    "            start = page.find('<a href=\"') + len('<a href=\"')\n",
    "            end = page.find('\"', start)\n",
    "            url = page[start:end]\n",
    "            page = page[end:]\n",
    "            if url != '#' and url != 'javascript:void(0)':\n",
    "                url_list.append(url)\n",
    "    return(url_list)"
   ]
  },
  {
   "cell_type": "code",
   "execution_count": 14,
   "metadata": {},
   "outputs": [],
   "source": [
    "def webcrawler(url, max_pages):\n",
    "    list_url = []\n",
    "    html_code = requests.get(url).text\n",
    "    urls = get_all_url(html_code)\n",
    "    for i in range(len(urls)):\n",
    "        if i < max_pages:\n",
    "            list_url.append(list((urls[i], len(get_all_url(requests.get(urls[i]).text)))))\n",
    "        else:\n",
    "            return list_url\n",
    "\n"
   ]
  },
  {
   "cell_type": "code",
   "execution_count": 15,
   "metadata": {},
   "outputs": [
    {
     "data": {
      "text/plain": [
       "[['http://kayvanmomeni.com/math-drawing/', 23],\n",
       " ['https://www.instagram.com/kayvanmomeni/', 0],\n",
       " ['https://www.linkedin.com/in/kayvan-momeni/', 0],\n",
       " ['http://kayvanmomeni.com/wp-content/uploads/2015/01/aug-8-2017.jpg', 0],\n",
       " ['http://kayvanmomeni.com/wp-content/uploads/2015/01/aug-8-2017.jpg', 0]]"
      ]
     },
     "execution_count": 15,
     "metadata": {},
     "output_type": "execute_result"
    }
   ],
   "source": [
    "webcrawler(url, 5)"
   ]
  }
 ],
 "metadata": {
  "kernelspec": {
   "display_name": "Python 3 (ipykernel)",
   "language": "python",
   "name": "python3"
  },
  "language_info": {
   "codemirror_mode": {
    "name": "ipython",
    "version": 3
   },
   "file_extension": ".py",
   "mimetype": "text/x-python",
   "name": "python",
   "nbconvert_exporter": "python",
   "pygments_lexer": "ipython3",
   "version": "3.9.13"
  }
 },
 "nbformat": 4,
 "nbformat_minor": 2
}
