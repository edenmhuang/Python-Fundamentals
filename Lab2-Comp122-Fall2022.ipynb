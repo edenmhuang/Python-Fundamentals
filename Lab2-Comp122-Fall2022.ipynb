{
 "cells": [
  {
   "cell_type": "markdown",
   "id": "2db4ca94",
   "metadata": {},
   "source": [
    "# Lab 2 Comp 122 Fall 2022"
   ]
  },
  {
   "cell_type": "markdown",
   "id": "23b6dead",
   "metadata": {},
   "source": [
    "1. Write a function named sphere_volume_area that takes a number r and returns the volume and area of a sphere.\n"
   ]
  },
  {
   "cell_type": "code",
   "execution_count": 1,
   "id": "86978c7e",
   "metadata": {},
   "outputs": [],
   "source": [
    "import math"
   ]
  },
  {
   "cell_type": "code",
   "execution_count": 3,
   "id": "24a49111",
   "metadata": {},
   "outputs": [
    {
     "name": "stdout",
     "output_type": "stream",
     "text": [
      "[3053.6280592892786, 1017.8760197630929]\n"
     ]
    }
   ],
   "source": [
    "def sphere_volume_area(r):\n",
    "    volume_of_sphere = (4/3) * (math.pi * r**3)\n",
    "    area_of_sphere = 4 * math.pi * r**2\n",
    "    return [volume_of_sphere, area_of_sphere]\n",
    "print(sphere_volume_area(9))"
   ]
  },
  {
   "cell_type": "markdown",
   "id": "ad631b08",
   "metadata": {},
   "source": [
    "# Python String find()"
   ]
  },
  {
   "cell_type": "markdown",
   "id": "ca7042b7",
   "metadata": {},
   "source": [
    "The find() method returns the index of first occurrence of the substring (if found). If not found, it returns -1."
   ]
  },
  {
   "cell_type": "code",
   "execution_count": 5,
   "id": "7c046cb4",
   "metadata": {},
   "outputs": [
    {
     "name": "stdout",
     "output_type": "stream",
     "text": [
      "the index of the first fun is  12\n",
      "the index of the first'y' is  1\n",
      "the index of the first 'p' is  16\n",
      "there is no 'k' in the message string therefore the output is  -1\n"
     ]
    }
   ],
   "source": [
    "message = 'Python is a fun programming language'\n",
    "#check the follwoing indexes\n",
    "print(\"the index of the first fun is \", message.find('fun'))\n",
    "print(\"the index of the first'y' is \", message.find('y'))\n",
    "print(\"the index of the first 'p' is \", message.find('p'))\n",
    "print(\"there is no 'k' in the message string therefore the output is \", message.find('k'))"
   ]
  },
  {
   "cell_type": "markdown",
   "id": "a9d1b1dc",
   "metadata": {},
   "source": [
    "2. Given the variable x, that stores the value of any decimal number, write Python code that prints out the nearest whole number to x.\n",
    "\n",
    "For example, for x = 2.1345 output should be 2 and for x = 2.781 the output should be 3"
   ]
  },
  {
   "cell_type": "code",
   "execution_count": 10,
   "id": "de69ed80",
   "metadata": {},
   "outputs": [
    {
     "name": "stdout",
     "output_type": "stream",
     "text": [
      "1\n"
     ]
    }
   ],
   "source": [
    "x = 1.1\n",
    "converted_x_to_string = str(x)\n",
    "index_of_the_decimal_point = converted_x_to_string.find('.')\n",
    "index_right_of_the_decimal_point = index_of_the_decimal_point + 1\n",
    "index_left_of_the_demical_point = index_of_the_decimal_point - 1 \n",
    "\n",
    "if int(converted_x_to_string[index_right_of_the_decimal_point]) < 5:\n",
    "    print(converted_x_to_string[:index_of_the_decimal_point])\n",
    "else:\n",
    "    print(int(converted_x_to_string[:index_of_the_decimal_point]) + 1)"
   ]
  },
  {
   "cell_type": "markdown",
   "id": "2071bc91",
   "metadata": {},
   "source": [
    "# More on String find() method ---- string.find(value, start, end)\n",
    "start and end values are Optional. <br>\n",
    "<b>start:</b> asking python where to start the search. Default is 0 <br>\n",
    "<b>end:</b> asking python where to end the search. Default is to the end of the string"
   ]
  },
  {
   "cell_type": "code",
   "execution_count": 11,
   "id": "50d0afad",
   "metadata": {},
   "outputs": [
    {
     "name": "stdout",
     "output_type": "stream",
     "text": [
      "the index of the first 'o' is  4\n",
      "the index of the second 'o' is  18\n",
      "length of message string is  36\n",
      "is there any more 'o' after index 18:  -1\n"
     ]
    }
   ],
   "source": [
    "messgae = 'Python is a fun programming language'\n",
    "#check the following indexes\n",
    "print(\"the index of the first 'o' is \", message.find('o'))\n",
    "print(\"the index of the second 'o' is \", message.find('o',5))\n",
    "print(\"length of message string is \", len(message))\n",
    "print(\"is there any more 'o' after index 18: \", message.find('o',19,36))"
   ]
  },
  {
   "cell_type": "markdown",
   "id": "f2b5b08d",
   "metadata": {},
   "source": [
    "3. Assume mystring is a variable that holds a string.<br>\n",
    "Write Python code that prints out the position of the second occurrence of 'python' in mysting, or -1 if it does not occur at least twice."
   ]
  },
  {
   "cell_type": "code",
   "execution_count": 13,
   "id": "61cd8131",
   "metadata": {},
   "outputs": [
    {
     "name": "stdout",
     "output_type": "stream",
     "text": [
      "25\n",
      "-1\n"
     ]
    }
   ],
   "source": [
    "mystring = \"I love python that loves python\"\n",
    "\n",
    "#it should print 25. Add your code in (...)\n",
    "print (mystring.find('python', mystring.find('python') + 1))\n",
    "\n",
    "#it should print -1, for the following text. Add your code in (...)\n",
    "mystring = \"I love a python who loves me\"\n",
    "print (mystring.find('python', mystring.find('python') + 1))"
   ]
  },
  {
   "cell_type": "markdown",
   "id": "ecf55ebe",
   "metadata": {},
   "source": [
    "4. Given the variables s and t defined as:<br>\n",
    "s = 'Comp122'<br>\n",
    "t = 'myPython'<br>\n",
    "write Python code that prints out Python122 without using any quote characters in your code."
   ]
  },
  {
   "cell_type": "code",
   "execution_count": 14,
   "id": "1c893f40",
   "metadata": {},
   "outputs": [
    {
     "data": {
      "text/plain": [
       "'Python122'"
      ]
     },
     "execution_count": 14,
     "metadata": {},
     "output_type": "execute_result"
    }
   ],
   "source": [
    "s = 'Comp122'\n",
    "t = 'myPython'\n",
    "t[2:8] + s[4:7]"
   ]
  },
  {
   "cell_type": "markdown",
   "id": "14925579",
   "metadata": {},
   "source": [
    "# Extracting Links"
   ]
  },
  {
   "cell_type": "markdown",
   "id": "a0190404",
   "metadata": {},
   "source": [
    "5. Write Python code that assigns to the variable url a string that is the value of the first URL that appears in a link tag in the string page.<br> \n",
    "Your code should print http://skylinecollege.edu/"
   ]
  },
  {
   "cell_type": "code",
   "execution_count": 15,
   "id": "42c17b4b",
   "metadata": {},
   "outputs": [
    {
     "data": {
      "text/plain": [
       "'http://skylinecollege.edu'"
      ]
     },
     "execution_count": 15,
     "metadata": {},
     "output_type": "execute_result"
    }
   ],
   "source": [
    "#page = contents of a web page on my.smccd.edu\n",
    "page = ('<div class=\"col-xs-12 col-sm-3\"><a href=\"http://skylinecollege.edu/%22%3E<img '\n",
    "        'src=\"images/Skyline_Logo_color.png\" alt=\"Skyline College Logo\"></a> </div>' )\n",
    "url = page[page.find('http') : page.find('edu', page.find('http')) + 3]\n",
    "url"
   ]
  },
  {
   "cell_type": "markdown",
   "id": "48144423",
   "metadata": {},
   "source": [
    "6. Write a function named true_len that takes a word and returns the number of letters in the given word.\n"
   ]
  },
  {
   "cell_type": "code",
   "execution_count": 16,
   "id": "9835b378",
   "metadata": {},
   "outputs": [
    {
     "data": {
      "text/plain": [
       "2"
      ]
     },
     "execution_count": 16,
     "metadata": {},
     "output_type": "execute_result"
    }
   ],
   "source": [
    "def true_len(word):\n",
    "    return(len(word))\n",
    "word = 'hi'\n",
    "true_len(word)"
   ]
  },
  {
   "cell_type": "markdown",
   "id": "1884335a",
   "metadata": {},
   "source": [
    "7. Write a function names my_ns that takes an integer (n) and computes the value of n+nn+nnn+nnnn.<br>\n",
    "for example, my_ns(4) should return 4936"
   ]
  },
  {
   "cell_type": "code",
   "execution_count": 17,
   "id": "849baa37",
   "metadata": {},
   "outputs": [
    {
     "data": {
      "text/plain": [
       "6170"
      ]
     },
     "execution_count": 17,
     "metadata": {},
     "output_type": "execute_result"
    }
   ],
   "source": [
    "def my_ns(n):\n",
    "    value = n \n",
    "    value = value + 11*n\n",
    "    value = value + 111*n\n",
    "    value = value + 1111*n\n",
    "    return(value)\n",
    "my_ns(5)"
   ]
  },
  {
   "cell_type": "markdown",
   "id": "d8a482a7",
   "metadata": {},
   "source": [
    "# Python if ... else\n",
    "# Python Conditions and If statements\n",
    "Python supports the usual logical conditions from mathematics:<br>\n",
    "\n",
    "Equals: a == b<br>\n",
    "Not Equals: a != b<br>\n",
    "Less than: a < b<br>\n",
    "Less than or equal to: a <= b<br>\n",
    "Greater than: a > b<br>\n",
    "Greater than or equal to: a >= b<br>\n",
    "These conditions can be used in several ways, most commonly in \"if statements\" and loops.<br>\n",
    "\n",
    "An \"if statement\" is written by using the if keyword."
   ]
  },
  {
   "cell_type": "code",
   "execution_count": 18,
   "id": "f061cf6e",
   "metadata": {},
   "outputs": [],
   "source": [
    "x = 10\n",
    "y = 200\n",
    "if x > y:\n",
    "    print('x is greater than y')"
   ]
  },
  {
   "cell_type": "markdown",
   "id": "b896aef2",
   "metadata": {},
   "source": [
    "# elif\n",
    "The elif keyword is pythons way of saying \"if the previous conditions were not true, then try this condition\"."
   ]
  },
  {
   "cell_type": "code",
   "execution_count": 19,
   "id": "a3cb606d",
   "metadata": {},
   "outputs": [
    {
     "name": "stdout",
     "output_type": "stream",
     "text": [
      "y is greater than x\n"
     ]
    }
   ],
   "source": [
    "x = 10\n",
    "y = 200\n",
    "if x > y:\n",
    "    print('x is greater than y')\n",
    "elif x < y:\n",
    "    print('y is greater than x')"
   ]
  },
  {
   "cell_type": "markdown",
   "id": "9ae5c159",
   "metadata": {},
   "source": [
    "# else\n",
    "The else keyword catches anything which isn't caught by the preceding conditions."
   ]
  },
  {
   "cell_type": "code",
   "execution_count": 20,
   "id": "ff696221",
   "metadata": {},
   "outputs": [
    {
     "name": "stdout",
     "output_type": "stream",
     "text": [
      "y is greater than x\n"
     ]
    }
   ],
   "source": [
    "x = 10\n",
    "y = 200\n",
    "if x > y:\n",
    "    print('x is greater than y')\n",
    "elif x < y:\n",
    "    print('y is greater than x')\n",
    "else:\n",
    "    print('x and y are equal')"
   ]
  },
  {
   "cell_type": "markdown",
   "id": "df6a382d",
   "metadata": {},
   "source": [
    "8. Write a function named even_OR_odd that takes an integer and Check if the number is Odd or Even."
   ]
  },
  {
   "cell_type": "code",
   "execution_count": 21,
   "id": "6f6ff960",
   "metadata": {},
   "outputs": [],
   "source": [
    "def even_OR_odd(a):\n",
    "    if a % 2 == 0:\n",
    "        print('even')\n",
    "    else:\n",
    "        print('odd')"
   ]
  },
  {
   "cell_type": "code",
   "execution_count": 22,
   "id": "ba087ae1",
   "metadata": {},
   "outputs": [
    {
     "name": "stdout",
     "output_type": "stream",
     "text": [
      "odd\n"
     ]
    }
   ],
   "source": [
    "even_OR_odd(11)"
   ]
  },
  {
   "cell_type": "markdown",
   "id": "031118fa",
   "metadata": {},
   "source": [
    "9. Write a function named sum_or_zero that takes three integers and returns the sum of the three integers.<br>\n",
    "However, if two values are equal sum will be zero."
   ]
  },
  {
   "cell_type": "code",
   "execution_count": 23,
   "id": "8a27fa38",
   "metadata": {},
   "outputs": [],
   "source": [
    "def sum_or_zero(a, b, c):\n",
    "    if a == b: \n",
    "        return(0)\n",
    "    elif b == c: \n",
    "        return(0)\n",
    "    elif a == c:\n",
    "        return(0)\n",
    "    else:\n",
    "        return(a+b+c)"
   ]
  },
  {
   "cell_type": "code",
   "execution_count": 25,
   "id": "ff19accb",
   "metadata": {},
   "outputs": [
    {
     "data": {
      "text/plain": [
       "0"
      ]
     },
     "execution_count": 25,
     "metadata": {},
     "output_type": "execute_result"
    }
   ],
   "source": [
    "sum_or_zero(2, 2, 3)"
   ]
  },
  {
   "cell_type": "markdown",
   "id": "8741cad7",
   "metadata": {},
   "source": [
    "10. Write a function named only_int that takes two opjects.<br>\n",
    "Your function should add the two objects if both objects are an integer type.<br>\n",
    "If there are not the int type, your code should return False"
   ]
  },
  {
   "cell_type": "code",
   "execution_count": 26,
   "id": "067b410a",
   "metadata": {},
   "outputs": [],
   "source": [
    "def only_int(a,b):\n",
    "    if type(a) == int and type(b) == int:\n",
    "        return(a+b)\n",
    "    else:\n",
    "        return(False)"
   ]
  },
  {
   "cell_type": "code",
   "execution_count": 27,
   "id": "25e282d3",
   "metadata": {},
   "outputs": [
    {
     "data": {
      "text/plain": [
       "False"
      ]
     },
     "execution_count": 27,
     "metadata": {},
     "output_type": "execute_result"
    }
   ],
   "source": [
    "only_int(2.5, 37)"
   ]
  }
 ],
 "metadata": {
  "kernelspec": {
   "display_name": "Python 3 (ipykernel)",
   "language": "python",
   "name": "python3"
  },
  "language_info": {
   "codemirror_mode": {
    "name": "ipython",
    "version": 3
   },
   "file_extension": ".py",
   "mimetype": "text/x-python",
   "name": "python",
   "nbconvert_exporter": "python",
   "pygments_lexer": "ipython3",
   "version": "3.9.13"
  }
 },
 "nbformat": 4,
 "nbformat_minor": 5
}
